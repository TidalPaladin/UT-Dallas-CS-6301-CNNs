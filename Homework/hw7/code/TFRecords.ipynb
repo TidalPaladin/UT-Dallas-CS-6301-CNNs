{
 "cells": [
  {
   "cell_type": "markdown",
   "metadata": {},
   "source": [
    "# Homework 07"
   ]
  },
  {
   "cell_type": "markdown",
   "metadata": {},
   "source": [
    "# Problem 2 <a name=\"introduction\"></a>\n",
    "\n",
    "## 26 <a name=\"26\"></a>\n",
    "\n",
    "We have a residual layer with the following reverse graph\n",
    "\n",
    "To calculate $\\frac{\\partial e}{\\partial x}$ we will need\n",
    "to apply the chain rule through $f(x)$ and sum on the\n",
    "residual merge. This gives\n",
    "\n",
    "$$\n",
    "\\frac{\\partial e}{\\partial x} = \n",
    "    \\frac{\\partial f}{\\partial x}\n",
    "    \\cdot\n",
    "    \\frac{\\partial e}{\\partial y} \n",
    "$$\n",
    "## 27 \n",
    "\n",
    "We apply the operator $\\partial/\\partial x$ across $\\boldsymbol{e}$\n",
    "\n",
    "$$\n",
    "\\begin{aligned}\n",
    "\\frac{\\partial e}{\\partial h-h_0} &= \n",
    "    \\frac{\\partial e(h)}{\\partial h-h_0}\n",
    "    +\n",
    "    \\frac{\\partial (h-h_0)^T g}{\\partial h-h_0}\n",
    "    +\n",
    "    0.5\\frac{\\partial (h-h_0)^T A (h-h_0)}{\\partial h-h_0}\n",
    "\\\\\n",
    "&=0 + g + A(h-h_0)\n",
    "\\end{aligned}\n",
    "$$\n",
    "\n",
    "Then optimizing with this expression gives\n",
    "\n",
    "$$\n",
    "\\begin{aligned}\n",
    "0 + g + A(h-h_0) &= 0 \\\\\n",
    "A(h-h_0) &= -g \\\\\n",
    "h-h_0 &= -gA^{-1}\n",
    "\\end{aligned}\n",
    "$$\n",
    "\n",
    "## 28 \n",
    "\n",
    "This one got me on the test, as I applied the chain rule to the optimized\n",
    "$h-h_0$ found above rather than the gradient. It is more straightforward to\n",
    "differentiate with respect to $\\alpha$, giving\n",
    "\n",
    "$$\n",
    "\\begin{aligned}\n",
    "\\frac{\\partial e(h)}{\\partial \\alpha}\n",
    "&=\n",
    "0 - g^Tg + \\alpha g^T A g\n",
    "\\end{aligned}\n",
    "$$\n",
    "\n",
    "Which we optimize as\n",
    "\n",
    "$$\n",
    "\\begin{aligned}\n",
    "- g^Tg + \\alpha g^T A g &= 0 \\\\\n",
    "g^Tg = \\alpha g^T A g \\\\\n",
    "\\alpha = \\frac{g^Tg}{g^T A g} \\\\\n",
    "\\end{aligned}\n",
    "$$\n",
    "\n",
    "# Training\n",
    "\n",
    "I could not find a logical way to divide the document where each problem\n",
    "was encapsulated separately, but I have done my best to answer the given questions in the order that the occur during network design.\n",
    "\n",
    "The Tiny ImageNet dataset can be downloaded \n",
    "[here](http://cs231n.stanford.edu/tiny-imagenet-200.zip)\n",
    "Extract the zip onto a fast disk drive. First we will set up the\n",
    "python environment and imports, along with model flags."
   ]
  },
  {
   "cell_type": "code",
   "execution_count": null,
   "metadata": {},
   "outputs": [],
   "source": [
    "import numpy as np\n",
    "from matplotlib import pyplot as plt\n",
    "import tensorflow as tf\n",
    "from tf import keras\n",
    "from tf.keras import layers\n",
    "import os\n",
    "import re\n",
    "from IPython.display import clear_output\n",
    "\n",
    "from tf.keras.callbacks import ModelCheckpoint, ProgbarLogger\n",
    "from tf.losses import sparse_softmax_cross_entropy as softmax_xent\n",
    "from tf.data import TFRecordDataset\n",
    "from tf.data.experimental import TFRecordWriter\n",
    "from tf.keras.preprocessing.image import ImageDataGenerator\n",
    "\n",
    "# For TFRecord demo\n",
    "tf.logging.set_verbosity(tf.logging.INFO)\n",
    "\n",
    "# Only expose secondary GPU\n",
    "# Prevents desktop sluggishness\n",
    "os.environ['CUDA_VISIBLE_DEVICES'] = '1'\n",
    "\n",
    "class Constants(object):\n",
    "    def __init__(self, d):\n",
    "        self.__dict__ = d\n",
    "\n",
    "# Constants for important filepaths\n",
    "DATASET_ROOT = '/home/tidal/tiny-imagenet-200'\n",
    "FLAGS = {\n",
    "    # Dataset / Sharding\n",
    "    'train_dir' : 'train',\n",
    "    'tfrecord_fmt' : 'tfrecords/tin_{}.tfrecord',\n",
    "    'num_classes' : 200,\n",
    "    'num_shards' : 10,\n",
    "    'shard_size' : 10000,\n",
    "    'num_train' : 100000,\n",
    "    'input_shape' : (64, 64, 3),\n",
    "    'data_format' : 'channels_last',\n",
    "    'class_mode' : 'sparse',\n",
    "    'compression' : 'GZIP',\n",
    "\n",
    "    # Preprocessing args for ImageDataGenerator\n",
    "    'preprocess' : {\n",
    "        'samplewise_center' : True,\n",
    "        'samplewise_std_normalization' : True,\n",
    "        'horizontal_flip' : True,\n",
    "        'rescale' : 1./255\n",
    "    },\n",
    "\n",
    "    # Model\n",
    "    'width' : 64,\n",
    "\n",
    "    # Training\n",
    "    'batch_size' : 128,\n",
    "    'num_epochs' : 72,\n",
    "    'shuffle' : 5000,\n",
    "    'momentum' : 0.9,\n",
    "    'regularizer_scale' : 0.1,\n",
    "    'lr_initial' : 0.01,\n",
    "    'lr_scale' : 0.1,\n",
    "    'lr_epoch' : 64,\n",
    "    'val_size' : 5000,\n",
    "    'lr_staircase' : True,\n",
    "\n",
    "    # Checkpoint\n",
    "    'max_checkpoint' : 5,\n",
    "    'chkpt_fmt' : 'checkpoints/resnet_{epoch:02d}'\n",
    "}\n",
    "\n",
    "# Append full paths\n",
    "for path in ['train_dir', 'tfrecord_fmt', 'chkpt_fmt']:\n",
    "    base = FLAGS[path]\n",
    "    FLAGS[path] = os.path.join(DATASET_ROOT, base)\n",
    "\n",
    "# Allow for FLAGS.x indexing\n",
    "FLAGS = Constants(FLAGS)\n",
    "\n",
    "# Input shape, batching, and data type\n",
    "inputs = tf.keras.layers.Input(\n",
    "    shape=FLAGS.input_shape,\n",
    "    name='input',\n",
    "    dtype=tf.float32\n",
    ")\n",
    "\n",
    "# Ground truth sparse label placeholder\n",
    "labels = tf.placeholder(\n",
    "    dtype=tf.int32,\n",
    "    shape=[None],\n",
    "    name='label'\n",
    ")"
   ]
  },
  {
   "cell_type": "markdown",
   "metadata": {},
   "source": [
    "## Importing the Dataset\n",
    "\n",
    "Looking at the directory\n",
    "structure of the dataset, we see that there are subdirectory for\n",
    "training, validating, and testing. The training set contains\n",
    "200 classes where images of a class are grouped by directory.\n",
    "\n",
    "We can import the training set with preprocessing as follows\n",
    "(documentation available \n",
    "[here](https://keras.io/preprocessing/image/).)\n",
    "\n",
    "We will use the `ImageDataGenerator`. This works well on the\n",
    "training set by default, and will automate nearly all of the\n",
    "import process. First a generator is constructed as follows"
   ]
  },
  {
   "cell_type": "code",
   "execution_count": null,
   "metadata": {},
   "outputs": [],
   "source": [
    "train_datagen = ImageDataGenerator(\n",
    "        data_format=FLAGS.data_format,\n",
    "        **FLAGS.preprocess)\n"
   ]
  },
  {
   "cell_type": "markdown",
   "metadata": {},
   "source": [
    "where the arguments (some found in `FLAGS.preprocess) are\n",
    " * `samplewise_center=True` - Normalize to zero mean\n",
    " * `samplewise_std_normalization=True` - Normalize to unit variance\n",
    " * `horizontal_flip=True` - Flip images\n",
    " * `data_format=True` - Generator should yield images with channels on axis 0\n",
    " * `rescale=1./255` - Rescale 8 bit images to a float on [0, 1]\n",
    "\n",
    "The constructor also allows one to specify a custom preprocessing function to run after the above operations. However, it is worth noting that these arithmetic operations will result in floating point outputs. Unless we are willing to tolerate a loss of precision by rounding these floats back to bytes, we will see a noticable growth in the size of our `.tfrecord` files. \n",
    "This also has implications for memory movement, as we are now moving around additional floating point values.\n",
    "\n",
    "An alternative is to apply these preprocessing operations as the `.tfrecord` file is read, at which point computational cost is traded for memory and storage efficiency.\n",
    "\n",
    "Next we use the `flow_from_directory` method which automatically\n",
    "interprets the file structure of the training set and returns an iterator\n",
    "over training files. Our preprocessing operations will be applied as files are pulled from this iterator as tuples of image label pairs. The arguments are mostly trivial. We specify a `class_mode='sparse'` such that an argmax integer is produced for labels, rather than a one hot vector. The batch size specified here is distinct from the one used in training and may be tuned separately.\n",
    "\n",
    "For other class modes, be sure to choose a loss function accordingly. Using categorical labels with sparse loss functions will produce cryptic errors about type and length. "
   ]
  },
  {
   "cell_type": "code",
   "execution_count": null,
   "metadata": {},
   "outputs": [],
   "source": [
    "train_generator = train_datagen.flow_from_directory(\n",
    "        FLAGS.train_dir,\n",
    "        target_size=FLAGS.input_shape[:2],\n",
    "        batch_size=FLAGS.shard_size,\n",
    "        class_mode=FLAGS.class_mode)\n",
    "train_generator"
   ]
  },
  {
   "cell_type": "markdown",
   "metadata": {
    "lines_to_next_cell": 0
   },
   "source": [
    "When we invoke `train_generator` we see output on the properties of the scanned dataset.\n",
    "\n",
    "**Note** that no shuffling was used - according to the documentation,\n",
    "shuffling should be done after any sharding operations.\n",
    "\n",
    "**Note** `train_generator` is assigned once, outside of any looping operations. If the iterator has stateful dependencies, it will be regenerated numerous times in the dataflow graph, leading to inefficiency and the possiblity that only some of the training examples will be pulled by the iterator."
   ]
  },
  {
   "cell_type": "raw",
   "metadata": {
    "lines_to_next_cell": 0
   },
   "source": [
    "\n",
    "We can pull a few images from the generator to examine the effects of our\n",
    "preprocessing operations.\n",
    "\n",
    "```python\n",
    "def plot_images(img_iter, rows=2, cols=2):\n",
    "    fig=plt.figure(figsize=(8, 8))\n",
    "    img_iter = img_iter[:rows*cols]\n",
    "    for i, img in enumerate(img_iter):\n",
    "        fig.add_subplot(rows, cols, i+1)\n",
    "        plt.imshow(img)\n",
    "    plt.show()\n",
    "    return img_iter\n",
    "\n",
    "img_bat, label_bat = train_generator.next()\n",
    "_ = plot_images(img_bat)"
   ]
  },
  {
   "cell_type": "markdown",
   "metadata": {},
   "source": [
    "## Writing `.tfrecord` files\n",
    "\n",
    "We write `.tfrecord` files by serializing features and labels to binary \n",
    "strings and writing those strings to appropriate files. Specifically,\n",
    "we do the following:\n",
    "\n",
    " 1. Wrap the iterator we just created into a `Dataset` using `from_generator()`\n",
    " 2. Constrain the dataset to a finite size, as iterators loop indefinitely\n",
    " 3. Use `flat_map` to flatten out batching produced by the iterator\n",
    " 4. Serialize the image and label tensors to binary string\n",
    " 5. Pack those binary strings into an `Example` which can be serialized to\n",
    "    a string representing the complete training example\n",
    " 6. Write the serialized example to a file\n",
    "\n",
    "First we define the graph of these operations as follows"
   ]
  },
  {
   "cell_type": "code",
   "execution_count": 148,
   "metadata": {},
   "outputs": [],
   "source": [
    "\n",
    "def _bytes_feature(value):\n",
    "    return tf.train.Feature(bytes_list=tf.train.BytesList(value=[value]))\n",
    "\n",
    "def serialize_example(img, label):\n",
    "    # Dict of features for the serialized Example\n",
    "    feature = {\n",
    "        'img': _bytes_feature(img),\n",
    "        'label': _bytes_feature(label),\n",
    "    }\n",
    "\n",
    "    # Serialize and return\n",
    "    example_proto = tf.train.Example(features=tf.train.Features(feature=feature))\n",
    "    return example_proto.SerializeToString()\n",
    "\n",
    "def serialize_tensors(img, label):\n",
    "    # Serialize the image and label tensors\n",
    "    serial_img = tf.serialize_tensor(img)\n",
    "    label = tf.serialize_tensor(label)\n",
    "\n",
    "    tf_string = tf.py_func(\n",
    "        serialize_example, \n",
    "        (serial_img, label),  \n",
    "        tf.string)      \n",
    "    return tf.reshape(tf_string, ())\n",
    "\n",
    "#count = tf.Variable(0, dtype=tf.int32)\n",
    "\n",
    "_ = tf.data.Dataset.from_generator(\n",
    "        lambda : train_generator,\n",
    "        output_types=(tf.float32, tf.uint8)\n",
    ")\n",
    "_ = _.take(len(train_generator))\n",
    "_ = _.flat_map( lambda x, y : tf.data.Dataset.from_tensor_slices((x,y)))\n",
    "raw_data = _.map(serialize_tensors, num_parallel_calls=8)"
   ]
  },
  {
   "cell_type": "markdown",
   "metadata": {},
   "source": [
    "And then we execute this graph. This operation may take a long time, and\n",
    "the shard files may be large. In total the dataset grew to over a gigabyte\n",
    "even when using compression."
   ]
  },
  {
   "cell_type": "code",
   "execution_count": null,
   "metadata": {},
   "outputs": [
    {
     "name": "stdout",
     "output_type": "stream",
     "text": [
      "Writing shard 1 / 10\n",
      "Writing shard 2 / 10\n",
      "Writing shard 3 / 10\n",
      "Writing shard 4 / 10\n",
      "Writing shard 5 / 10\n",
      "Writing shard 6 / 10\n",
      "Writing shard 7 / 10\n",
      "Writing shard 8 / 10\n",
      "Writing shard 9 / 10\n"
     ]
    }
   ],
   "source": [
    "with tf.Session() as session:\n",
    "    file_list = []\n",
    "    for shard_index in range(FLAGS.num_shards):\n",
    "        filename = FLAGS.tfrecord_fmt.format(shard_index)\n",
    "        writer = TFRecordWriter(filename, compression_type=FLAGS.compression)\n",
    "        shard = raw_data.shard(FLAGS.num_shards, shard_index)\n",
    "        print('Writing shard %i / %i' % (shard_index+1, FLAGS.num_shards))\n",
    "        session.run(writer.write(shard))\n",
    "        file_list.append(filename)\n",
    "\n",
    "    print('Wrote files:')\n",
    "    for f in file_list:\n",
    "        print('  |-- %s' % os.path.basename(f))\n"
   ]
  },
  {
   "cell_type": "markdown",
   "metadata": {},
   "source": [
    "## Reading `.tfrecord` files\n",
    "\n",
    "We essentially perform the reverse of the serialization operations used to\n",
    "write the records."
   ]
  },
  {
   "cell_type": "code",
   "execution_count": null,
   "metadata": {},
   "outputs": [],
   "source": [
    "# The features to extract from a record\n",
    "\n",
    "def deserialize_example(example):\n",
    "    features = {\n",
    "           'img': tf.FixedLenFeature(shape=[], dtype=tf.string),\n",
    "           'label': tf.FixedLenFeature(shape=[], dtype=tf.string)\n",
    "    }\n",
    "    example = tf.parse_single_example(example, features)\n",
    "    img, label = example['img'], example['label']\n",
    "\n",
    "    img = tf.parse_tensor(img, tf.float32)\n",
    "    img = tf.reshape(img, FLAGS.input_shape)\n",
    "\n",
    "    label = tf.parse_tensor(label, tf.uint8)\n",
    "    label = tf.reshape(label, ())\n",
    "    return img, label\n",
    "\n",
    "# Construct a dataset of serialized records\n",
    "filenames = tf.data.Dataset.list_files(FLAGS.tfrecord_fmt.format('*'))\n",
    "_ = tf.data.TFRecordDataset(filenames, compression_type=FLAGS.compression)\n",
    "\n",
    "# Deserialize dataset to original tensors\n",
    "_ = _.map(deserialize_example)\n",
    "\n",
    "# Select training/validation sets with skip/take\n",
    "# Repeat to create a looping dataset\n",
    "# Batch as desired\n",
    "ds_train = _.skip(FLAGS.val_size)\n",
    "            .repeat()\n",
    "            .batch(FLAGS.batch_size)\n",
    "\n",
    "ds_val = _.take(FLAGS.val_size)\n",
    "        .repeat()\n",
    "        .batch(FLAGS.batch_size)"
   ]
  },
  {
   "cell_type": "markdown",
   "metadata": {},
   "source": [
    "We can then verify that we are reconstructing sane images"
   ]
  },
  {
   "cell_type": "code",
   "execution_count": 151,
   "metadata": {
    "lines_to_next_cell": 2
   },
   "outputs": [
    {
     "name": "stderr",
     "output_type": "stream",
     "text": [
      "Clipping input data to the valid range for imshow with RGB data ([0..1] for floats or [0..255] for integers).\n",
      "Clipping input data to the valid range for imshow with RGB data ([0..1] for floats or [0..255] for integers).\n",
      "Clipping input data to the valid range for imshow with RGB data ([0..1] for floats or [0..255] for integers).\n",
      "Clipping input data to the valid range for imshow with RGB data ([0..1] for floats or [0..255] for integers).\n"
     ]
    },
    {
     "data": {
      "image/png": "[encoded data removed]",
      "text/plain": [
       "<Figure size 576x576 with 4 Axes>"
      ]
     },
     "metadata": {
      "needs_background": "light"
     },
     "output_type": "display_data"
    }
   ],
   "source": [
    "with tf.Session() as session:\n",
    "    _ = ds_val.take(1).map(\n",
    "        lambda x, y : tf.py_func(\n",
    "            plot_images,\n",
    "            [x],\n",
    "            tf.float32\n",
    "        )\n",
    "    )\n",
    "    session.run(_.make_one_shot_iterator().get_next())"
   ]
  },
  {
   "cell_type": "markdown",
   "metadata": {},
   "source": [
    "## Building the Model\n",
    "\n",
    "We can construct Resnet using a subclassed approach. This involves\n",
    "creating modular blocks of layers that can be reused as needed, thus\n",
    "increasing code reuseability and ease of maintainance. \n",
    "\n",
    "Specifically, we subclass `tf.keras.Model` and implement the methods\n",
    "`__init__()` and `call()`. Our choice of `__init__()` method will define\n",
    "the the types of layers in this block, but says nothing about how they\n",
    "are connected. In the `call()` method we will define the connections\n",
    "between layers. This method takes an input as a parameter and returns\n",
    "an ouput that represents the feature maps after a forward pass through\n",
    "all layers in the block.\n",
    "\n",
    "The training state needed by layers like batch-norm is passed via\n",
    "`**kwargs` in `call()`. Names are used for layers where possible to\n",
    "simply debugging.\n",
    "\n",
    "## Tail\n",
    "\n",
    "We can begin by constructing the tail."
   ]
  },
  {
   "cell_type": "code",
   "execution_count": 156,
   "metadata": {},
   "outputs": [],
   "source": [
    "class Tail(tf.keras.Model):\n",
    "\n",
    "    def __init__(self, Ni, *args, **kwargs):\n",
    "        super(Tail, self).__init__(*args, **kwargs)\n",
    "\n",
    "        # Big convolution layer\n",
    "        self.conv = layers.Conv2D(\n",
    "                Ni,\n",
    "                (7, 7),\n",
    "                padding='same',\n",
    "                data_format=FLAGS.data_format,\n",
    "                use_bias=False,\n",
    "                name='tail_conv')\n",
    "\n",
    "        # Tail BN\n",
    "        self.bn = layers.BatchNormalization(\n",
    "                name='tail_bn')\n",
    "\n",
    "        # Tail BN\n",
    "        self.relu = layers.ReLU(name='tail_relu')\n",
    "\n",
    "        # Max pooling layer\n",
    "        self.pool = layers.MaxPool2D(\n",
    "                Ni,\n",
    "                (2, 2),\n",
    "                padding='same',\n",
    "                data_format=FLAGS.data_format,\n",
    "                name='tail_pool')\n",
    "\n",
    "    def call(self, inputs, **kwargs):\n",
    "\n",
    "        # Residual forward pass\n",
    "        _ = self.conv(inputs, **kwargs)\n",
    "        _ = self.bn(_, **kwargs)\n",
    "        _ = self.relu(_, **kwargs)\n",
    "        return self.pool(_, **kwargs)\n"
   ]
  },
  {
   "cell_type": "markdown",
   "metadata": {},
   "source": [
    "## Basic Block \n",
    "\n",
    "Next we define the fundamental CNN style 2D convolution block\n",
    "of Resnet, ie batch-norm, relu, convolution.\n",
    "\n",
    "Note that the number of filters and the kernel size are \n",
    "parameterized, and that parameter packs `*args, **kwargs`\n",
    "are forwarded to the convolution layer. This is important\n",
    "as it enables the reuse of this model for the various\n",
    "types of convolutions that we will need."
   ]
  },
  {
   "cell_type": "code",
   "execution_count": null,
   "metadata": {},
   "outputs": [],
   "source": [
    "class ResnetBasic(tf.keras.Model):\n",
    "\n",
    "    def __init__(self, filters, kernel_size, strides=(1,1), *args, **kwargs):\n",
    "        super(ResnetBasic, self).__init__(*args, **kwargs)\n",
    "        self.batch_norm = layers.BatchNormalization()\n",
    "        self.relu = layers.ReLU()\n",
    "        self.conv2d = layers.Conv2D(\n",
    "                filters,\n",
    "                kernel_size,\n",
    "                padding='same',\n",
    "                data_format=FLAGS.data_format,\n",
    "                activation=None,\n",
    "                use_bias=False,\n",
    "                strides=strides)\n",
    "\n",
    "    def call(self, inputs, **kwargs):\n",
    "        x = self.batch_norm(inputs, **kwargs)\n",
    "        x = self.relu(x, **kwargs)\n",
    "        return self.conv2d(x, **kwargs)"
   ]
  },
  {
   "cell_type": "markdown",
   "metadata": {},
   "source": [
    "## Standard Bottleneck\n",
    "\n",
    "From `ResnetBasic` we can build the bottleneck."
   ]
  },
  {
   "cell_type": "code",
   "execution_count": null,
   "metadata": {},
   "outputs": [],
   "source": [
    "class Bottleneck(tf.keras.Model):\n",
    "\n",
    "    def __init__(self, Ni, *args, **kwargs):\n",
    "        super(Bottleneck, self).__init__(*args, **kwargs)\n",
    "\n",
    "        # Three residual convolution blocks\n",
    "        kernels = [(1, 1), (3, 3), (1, 1)]\n",
    "        feature_maps = [Ni // 4, Ni // 4, Ni]\n",
    "        self.residual_filters = [\n",
    "            ResnetBasic(N, K) \n",
    "            for N, K in zip(feature_maps, kernels) \n",
    "        ] \n",
    "\n",
    "        # Merge operation\n",
    "        self.merge = layers.Add()\n",
    "\n",
    "    def call(self, inputs, **kwargs):\n",
    "\n",
    "        # Residual forward pass\n",
    "        res = inputs\n",
    "        for res_layer in self.residual_filters:\n",
    "            res = res_layer(res, **kwargs)\n",
    "\n",
    "        # Combine residual pass with identity\n",
    "        return self.merge([inputs, res], **kwargs)"
   ]
  },
  {
   "cell_type": "markdown",
   "metadata": {},
   "source": [
    "## Special Bottleneck\n",
    "\n",
    "We can define the special bottleneck layer by subclassing\n",
    "the `Bottleneck` class as follows."
   ]
  },
  {
   "cell_type": "code",
   "execution_count": null,
   "metadata": {},
   "outputs": [],
   "source": [
    "class SpecialBottleneck(Bottleneck):\n",
    "\n",
    "    def __init__(self, Ni, *args, **kwargs):\n",
    "\n",
    "        # Layers that also appear in standard bottleneck\n",
    "        super(SpecialBottleneck, self).__init__(Ni, *args, **kwargs)\n",
    "\n",
    "        # Add convolution layer along main path\n",
    "        self.main = layers.Conv2D(\n",
    "                Ni,\n",
    "                (1, 1),\n",
    "                padding='same',\n",
    "                data_format=FLAGS.data_format,\n",
    "                activation=None,\n",
    "                use_bias=False)\n",
    "\n",
    "    def call(self, inputs, **kwargs):\n",
    "\n",
    "        # Residual forward pass\n",
    "        res = inputs\n",
    "        for res_layer in self.residual_filters:\n",
    "            res = res_layer(res, **kwargs)\n",
    "\n",
    "        # Convolution on main forward pass\n",
    "        main = self.main(inputs, **kwargs)\n",
    "\n",
    "        # Merge residual and main\n",
    "        return self.merge([main, res])"
   ]
  },
  {
   "cell_type": "markdown",
   "metadata": {},
   "source": [
    "## Downsampling\n",
    "\n",
    "Next we need to define the downsampling layer."
   ]
  },
  {
   "cell_type": "code",
   "execution_count": null,
   "metadata": {},
   "outputs": [],
   "source": [
    "class Downsample(tf.keras.Model):\n",
    "\n",
    "    def __init__(self, Ni, *args, **kwargs):\n",
    "        super(Downsample, self).__init__(*args, **kwargs)\n",
    "\n",
    "        # Three residual convolution blocks\n",
    "        kernels = [(1, 1), (3, 3), (1, 1)]\n",
    "        strides = [(2, 2), (1, 1), (1, 1)]\n",
    "        feature_maps = [Ni // 2, Ni // 2, 2*Ni]\n",
    "\n",
    "        self.residual_filters = [\n",
    "            ResnetBasic(N, K, strides=S) \n",
    "            for N, K, S in zip(feature_maps, kernels, strides) \n",
    "        ] \n",
    "\n",
    "        # Convolution on main path\n",
    "        self.main = ResnetBasic(2*Ni, (1,1), strides=(2,2))\n",
    "\n",
    "        # Merge operation for residual and main\n",
    "        self.merge = layers.Add()\n",
    "\n",
    "    def call(self, inputs, **kwargs):\n",
    "\n",
    "        # Residual forward pass\n",
    "        res = inputs\n",
    "        for res_layer in self.residual_filters:\n",
    "            res = res_layer(res,**kwargs)\n",
    "\n",
    "        # Main forward pass\n",
    "        main = self.main(inputs, **kwargs)\n",
    "\n",
    "        # Merge residual and main\n",
    "        return self.merge([main, res])"
   ]
  },
  {
   "cell_type": "markdown",
   "metadata": {},
   "source": [
    "## Final Model\n",
    "\n",
    "Finally, we can assemble these blocks into the final model. \n",
    "Note that `Keras` provides a variety of simple ways to tweak\n",
    "the model, such as adding regularization. In fact, one could\n",
    "probably construct the model and override layers as member variables\n",
    "to apply tweaks without altering the main class. Subclassing is\n",
    "another option."
   ]
  },
  {
   "cell_type": "code",
   "execution_count": null,
   "metadata": {},
   "outputs": [],
   "source": [
    "class Resnet(tf.keras.Model):\n",
    "\n",
    "    def __init__(self, classes, filters, levels, *args, **kwargs):\n",
    "        super(Resnet, self).__init__(*args, **kwargs)\n",
    "\n",
    "\n",
    "        # Lists to hold various layers\n",
    "        self.blocks = list()\n",
    "\n",
    "        # Tail\n",
    "        self.tail = Tail(filters)\n",
    "\n",
    "        # Special bottleneck layer with convolution on main path\n",
    "        self.level_0_special = SpecialBottleneck(filters)\n",
    "\n",
    "        # Loop through levels and their parameterized repeat counts\n",
    "        for level, repeats in enumerate(levels):\n",
    "            for block in range(repeats):\n",
    "                # Append a bottleneck block for each repeat\n",
    "                name = 'bottleneck_%i_%i' % (level, block)\n",
    "                layer = Bottleneck(filters, name=name)\n",
    "                self.blocks.append(layer)\n",
    "\n",
    "            # Downsample and double feature maps at end of level\n",
    "            name = 'downsample_%i' % (level)\n",
    "            layer = Downsample(filters, name=name)\n",
    "            self.blocks.append(layer) \n",
    "            filters *= 2\n",
    "\n",
    "        self.level2_batch_norm = layers.BatchNormalization(name='final_bn')\n",
    "        self.level2_relu = layers.ReLU(name='final_relu')\n",
    "\n",
    "        # Decoder - global average pool and fully connected\n",
    "        self.global_avg = layers.GlobalAveragePooling2D(\n",
    "                data_format=FLAGS.data_format,\n",
    "                name='GAP' \n",
    "                )\n",
    "\n",
    "        # Dense with regularizer, just as a test\n",
    "        self.dense = layers.Dense(\n",
    "                classes, \n",
    "                name='dense',\n",
    "                kernel_regularizer=tf.keras.regularizers.l2(0.01),\n",
    "                use_bias=True)\n",
    "\n",
    "\n",
    "    def call(self, inputs, **kwargs):\n",
    "        x = self.tail(inputs, **kwargs)\n",
    "        x = self.level_0_special(x)\n",
    "\n",
    "        # Loop over layers by level\n",
    "        for layer in self.blocks:\n",
    "            x = layer(x, **kwargs)\n",
    "\n",
    "        # Finish up specials in level 2\n",
    "        x = self.level2_batch_norm(x, **kwargs)\n",
    "        x = self.level2_relu(x)\n",
    "\n",
    "        # Decoder\n",
    "        x = self.global_avg(x)\n",
    "        return self.dense(x, **kwargs)"
   ]
  },
  {
   "cell_type": "markdown",
   "metadata": {},
   "source": [
    "## Using the Model\n",
    "\n",
    "Now that we have defined a subclassed model, we need to\n",
    "incorproate it into a training / testing environment. This is\n",
    "where the beauty of the subclassed approach comes in. \n",
    "In our case\n",
    "we want construct Resnet modified for Tiny Imagenet, where the\n",
    "modifications are as follows:\n",
    "\n",
    " * Third level of residual blocks + downsampling\n",
    " * Full and half width versions\n",
    "\n",
    "Our Resnet class accepts an interable of integers to define the\n",
    "number of repeats at each level. As such, we need only add an\n",
    "integer for the number of repeats at level 3 to our constructor call.\n",
    "Similarly, we can scale the number of feature maps as needed to adjust\n",
    "width.\n"
   ]
  },
  {
   "cell_type": "code",
   "execution_count": null,
   "metadata": {},
   "outputs": [],
   "source": [
    "# As seen in CIFAR\n",
    "standard_levels = [4, 6, 3]\n",
    "\n",
    "# Add our new level\n",
    "new_level_count = 2\n",
    "modified_levels = standard_levels + [new_level_count]\n",
    "\n",
    "model = Resnet(FLAGS.num_classes, FLAGS.width, modified_levels)\n",
    "outputs = model(inputs)"
   ]
  },
  {
   "cell_type": "markdown",
   "metadata": {},
   "source": [
    "Note that `model` returned by our class constructor is callable.\n",
    "Thus our forward pass mapping inputs to outputs is invoked by\n",
    "\"calling\" `model` on the inputs and storing the returned outputs.\n",
    "The operation above defines this flow of information as part of\n",
    "a computational graph but does not carry out operations yet.\n",
    "\n",
    "Finally, we can get a summary of model"
   ]
  },
  {
   "cell_type": "code",
   "execution_count": 159,
   "metadata": {},
   "outputs": [
    {
     "name": "stdout",
     "output_type": "stream",
     "text": [
      "_________________________________________________________________\n",
      "Layer (type)                 Output Shape              Param #   \n",
      "=================================================================\n",
      "bottleneck_0_0 (Bottleneck)  (None, 32, 32, 64)        4736      \n",
      "_________________________________________________________________\n",
      "bottleneck_0_1 (Bottleneck)  (None, 32, 32, 64)        4736      \n",
      "_________________________________________________________________\n",
      "bottleneck_0_2 (Bottleneck)  (None, 32, 32, 64)        4736      \n",
      "_________________________________________________________________\n",
      "bottleneck_0_3 (Bottleneck)  (None, 32, 32, 64)        4736      \n",
      "_________________________________________________________________\n",
      "downsample_0 (Downsample)    (None, 16, 16, 128)       24320     \n",
      "_________________________________________________________________\n",
      "bottleneck_1_0 (Bottleneck)  (None, 16, 16, 128)       18176     \n",
      "_________________________________________________________________\n",
      "bottleneck_1_1 (Bottleneck)  (None, 16, 16, 128)       18176     \n",
      "_________________________________________________________________\n",
      "bottleneck_1_2 (Bottleneck)  (None, 16, 16, 128)       18176     \n",
      "_________________________________________________________________\n",
      "bottleneck_1_3 (Bottleneck)  (None, 16, 16, 128)       18176     \n",
      "_________________________________________________________________\n",
      "bottleneck_1_4 (Bottleneck)  (None, 16, 16, 128)       18176     \n",
      "_________________________________________________________________\n",
      "bottleneck_1_5 (Bottleneck)  (None, 16, 16, 128)       18176     \n",
      "_________________________________________________________________\n",
      "downsample_1 (Downsample)    (None, 8, 8, 256)         95744     \n",
      "_________________________________________________________________\n",
      "bottleneck_2_0 (Bottleneck)  (None, 8, 8, 256)         71168     \n",
      "_________________________________________________________________\n",
      "bottleneck_2_1 (Bottleneck)  (None, 8, 8, 256)         71168     \n",
      "_________________________________________________________________\n",
      "bottleneck_2_2 (Bottleneck)  (None, 8, 8, 256)         71168     \n",
      "_________________________________________________________________\n",
      "downsample_2 (Downsample)    (None, 4, 4, 512)         379904    \n",
      "_________________________________________________________________\n",
      "bottleneck_3_0 (Bottleneck)  (None, 4, 4, 512)         281600    \n",
      "_________________________________________________________________\n",
      "bottleneck_3_1 (Bottleneck)  (None, 4, 4, 512)         281600    \n",
      "_________________________________________________________________\n",
      "downsample_3 (Downsample)    (None, 2, 2, 1024)        1513472   \n",
      "_________________________________________________________________\n",
      "tail_2 (Tail)                (None, 32, 32, 64)        9664      \n",
      "_________________________________________________________________\n",
      "special_bottleneck_2 (Specia (None, 32, 32, 64)        8832      \n",
      "_________________________________________________________________\n",
      "final_bn (BatchNormalization (None, 2, 2, 1024)        4096      \n",
      "_________________________________________________________________\n",
      "final_relu (ReLU)            (None, 2, 2, 1024)        0         \n",
      "_________________________________________________________________\n",
      "GAP (GlobalAveragePooling2D) (None, 1024)              0         \n",
      "_________________________________________________________________\n",
      "dense (Dense)                (None, 200)               205000    \n",
      "=================================================================\n",
      "Total params: 3,145,736\n",
      "Trainable params: 3,129,160\n",
      "Non-trainable params: 16,576\n",
      "_________________________________________________________________\n"
     ]
    }
   ],
   "source": [
    "model.summary()"
   ]
  },
  {
   "cell_type": "markdown",
   "metadata": {},
   "source": [
    "## Training Prep\n",
    "\n",
    "We define an accuracy and loss metric, as well as an optimizer.\n",
    "The model is then compiled before execution."
   ]
  },
  {
   "cell_type": "code",
   "execution_count": null,
   "metadata": {},
   "outputs": [],
   "source": [
    "metrics = ['sparse_categorical_accuracy']\n",
    "\n",
    "# Need wrapper to cast argmax labels from float to int?\n",
    "def ssce(labels, logits, *args, **kwargs):\n",
    "    labels = tf.cast(labels, tf.int32)\n",
    "    return tf.losses.sparse_softmax_cross_entropy(labels, logits)\n",
    "loss = ssce\n",
    "\n",
    "optimizer = tf.train.AdamOptimizer(\n",
    "        learning_rate=FLAGS.lr_initial\n",
    ")\n",
    "\n",
    "model.compile(optimizer=optimizer, loss=loss, metrics=metrics)"
   ]
  },
  {
   "cell_type": "markdown",
   "metadata": {},
   "source": [
    "We can optionally add callbacks to handle checkpointing, learning rate\n",
    "changes, and other operations."
   ]
  },
  {
   "cell_type": "code",
   "execution_count": 170,
   "metadata": {},
   "outputs": [],
   "source": [
    "checkpoint = ModelCheckpoint(\n",
    "        filepath=FLAGS.chkpt_fmt, \n",
    "        period=1,\n",
    "        save_weights_only=True\n",
    ")\n",
    "\n",
    "callbacks = [ \n",
    "        checkpoint\n",
    "]"
   ]
  },
  {
   "cell_type": "markdown",
   "metadata": {},
   "source": [
    "We can conduct a few sanity checks before starting the training\n",
    "process. Let us evaluate our untrained model and examine the accuracy.\n",
    "We know that there are 200 labels, so by random guessing we expect an\n",
    "accuracy of about 1/200."
   ]
  },
  {
   "cell_type": "code",
   "execution_count": 171,
   "metadata": {},
   "outputs": [
    {
     "name": "stdout",
     "output_type": "stream",
     "text": [
      "10/10 [==============================] - 10s 970ms/step\n",
      "Expected: 0.005, actual: 0.005\n"
     ]
    }
   ],
   "source": [
    "z = model.evaluate(ds_val, steps=10)\n",
    "_, _ = z\n",
    "expect = 1. / FLAGS.num_classes\n",
    "print('Expected: %0.3f, actual: %0.3f' % (expect, _))"
   ]
  },
  {
   "cell_type": "markdown",
   "metadata": {},
   "source": [
    "## Training\n",
    "\n",
    "First we will check for checkpoints from which we can initialize weights.\n",
    "If none were found this may be a good place to apply some other\n",
    "initialization strategy."
   ]
  },
  {
   "cell_type": "code",
   "execution_count": 172,
   "metadata": {},
   "outputs": [
    {
     "name": "stdout",
     "output_type": "stream",
     "text": [
      "No checkpoint files found\n"
     ]
    }
   ],
   "source": [
    "_ = FLAGS.chkpt_fmt.format(epoch=0)\n",
    "_ = os.path.dirname(_)\n",
    "checkpoint_dir_contents = sorted(os.listdir(_))\n",
    "if checkpoint_dir_contents:\n",
    "    print('Trying checkpoint %s' % checkpoint_dir_contents[0])\n",
    "    model.load_weights(checkpoint_dir_contents[0])\n",
    "else:\n",
    "    print('No checkpoint files found')"
   ]
  },
  {
   "cell_type": "markdown",
   "metadata": {},
   "source": [
    "And now we begin the training loop. Statistics and progress will be\n",
    "printed regularly. The call to `model.fit()` will return a history with\n",
    "metrics over the epochs."
   ]
  },
  {
   "cell_type": "code",
   "execution_count": null,
   "metadata": {},
   "outputs": [
    {
     "name": "stdout",
     "output_type": "stream",
     "text": [
      "Epoch 1/72\n",
      "742/742 [==============================] - 725s 977ms/step - loss: 5.1228 - sparse_categorical_accuracy: 0.0184 - val_loss: 5.1833 - val_sparse_categorical_accuracy: 0.0296\n",
      "Epoch 2/72\n",
      " 46/742 [>.............................] - ETA: 10:32 - loss: 4.7560 - sparse_categorical_accuracy: 0.0387"
     ]
    }
   ],
   "source": [
    "steps_per_epoch = (FLAGS.num_train-FLAGS.val_size) // FLAGS.batch_size\n",
    "\n",
    "history = model.fit(\n",
    "        ds_train,\n",
    "        epochs=FLAGS.num_epochs,\n",
    "        callbacks=callbacks,\n",
    "        validation_data=ds_val,\n",
    "        shuffle=True,\n",
    "        steps_per_epoch=steps_per_epoch,\n",
    "        validation_steps=FLAGS.val_size // FLAGS.batch_size\n",
    ")\n",
    "print(history)"
   ]
  }
 ],
 "metadata": {
  "kernelspec": {
   "display_name": "Python 3",
   "language": "python",
   "name": "python3"
  },
  "language_info": {
   "codemirror_mode": {
    "name": "ipython",
    "version": 3
   },
   "file_extension": ".py",
   "mimetype": "text/x-python",
   "name": "python",
   "nbconvert_exporter": "python",
   "pygments_lexer": "ipython3",
   "version": "3.7.2"
  }
 },
 "nbformat": 4,
 "nbformat_minor": 2
}
